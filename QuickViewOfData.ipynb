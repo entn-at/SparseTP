{
 "cells": [
  {
   "cell_type": "markdown",
   "metadata": {},
   "source": [
    "## Quick View on 20 news groups data set"
   ]
  },
  {
   "cell_type": "markdown",
   "metadata": {},
   "source": [
    "### 1 read in the data"
   ]
  },
  {
   "cell_type": "markdown",
   "metadata": {},
   "source": [
    "we need a data structure to restore the statistics about dWord[\"word\"]=set(doc1,doc2,...), dPhrases[\"phrase\"]=set(doc1,...)"
   ]
  },
  {
   "cell_type": "code",
   "execution_count": 18,
   "metadata": {
    "collapsed": true
   },
   "outputs": [],
   "source": [
    "dWord=dict()\n",
    "dPhrase=dict()\n",
    "with open(\"input/20newsgroups.txt\") as f:\n",
    "    i=0\n",
    "    for line in f:\n",
    "        splitted=line.strip().split(\",\")\n",
    "        for element in splitted:\n",
    "            #invert indices for phrases\n",
    "            if(\" \" in element):\n",
    "                phrase=element\n",
    "                if(phrase not in dPhrase):\n",
    "                    dPhrase[phrase]=set([i])\n",
    "                else:\n",
    "                    dPhrase[phrase].add(i)\n",
    "                for word in phrase.split(\" \"):\n",
    "                    if(word not in dWord):\n",
    "                        dWord[word]=set([i])\n",
    "                    else:\n",
    "                        dWord[word].add(i)                    \n",
    "            #invert indices for phrases\n",
    "            else:\n",
    "                word=element\n",
    "                if(word not in dWord):\n",
    "                    dWord[word]=set([i])\n",
    "                else:\n",
    "                    dWord[word].add(i)\n",
    "        i=i+1\n",
    "N=i"
   ]
  },
  {
   "cell_type": "markdown",
   "metadata": {},
   "source": [
    "We use dWord and dPhrase to measure how phrase can be determined by the words. There are 4 examples, \"prometheus books\", \"atheist books\", \"important things\", \"clipper chip\". "
   ]
  },
  {
   "cell_type": "markdown",
   "metadata": {},
   "source": [
    "### 2 Computing the score of phrase"
   ]
  },
  {
   "cell_type": "code",
   "execution_count": 19,
   "metadata": {},
   "outputs": [
    {
     "name": "stdout",
     "output_type": "stream",
     "text": [
      "set([0, 708])\n",
      "set([0, 708])\n",
      "354\n"
     ]
    }
   ],
   "source": [
    "print(dPhrase[\"prometheus books\"])\n",
    "print(dWord[\"prometheus\"])\n",
    "print(len(dWord[\"books\"]))"
   ]
  },
  {
   "cell_type": "code",
   "execution_count": 20,
   "metadata": {},
   "outputs": [
    {
     "name": "stdout",
     "output_type": "stream",
     "text": [
      "set([0, 708])\n",
      "126\n",
      "354\n"
     ]
    }
   ],
   "source": [
    "print(dPhrase[\"atheist books\"])\n",
    "print(len(dWord[\"atheist\"]))\n",
    "print(len(dWord[\"books\"]))"
   ]
  },
  {
   "cell_type": "code",
   "execution_count": 21,
   "metadata": {},
   "outputs": [
    {
     "name": "stdout",
     "output_type": "stream",
     "text": [
      "set([17632, 18499, 3238, 1996, 15851, 17004, 17551, 17525, 17577, 18523, 18603])\n",
      "586\n",
      "1419\n"
     ]
    }
   ],
   "source": [
    "print(dPhrase[\"important things\"])\n",
    "print(len(dWord[\"important\"]))\n",
    "print(len(dWord[\"things\"]))"
   ]
  },
  {
   "cell_type": "code",
   "execution_count": 22,
   "metadata": {},
   "outputs": [
    {
     "name": "stdout",
     "output_type": "stream",
     "text": [
      "93\n",
      "242\n",
      "440\n"
     ]
    }
   ],
   "source": [
    "print(len(dPhrase[\"clipper chip\"]))\n",
    "print(len(dWord[\"clipper\"]))\n",
    "print(len(dWord[\"chip\"]))"
   ]
  },
  {
   "cell_type": "markdown",
   "metadata": {},
   "source": [
    "May be NPMI is a potential metric. NPMI=log(p(x,y)/(p(x)p(y) ))/(- log(p(x,y))), where p(x)=df(x)/|D|.\n",
    "More information can be referred to the paper [Normalized (Pointwise) Mutual Information in Collocation Extraction](https://svn.spraakdata.gu.se/repos/gerlof/pub/www/Docs/npmi-pfd.pdf)."
   ]
  },
  {
   "cell_type": "code",
   "execution_count": 23,
   "metadata": {},
   "outputs": [
    {
     "name": "stdout",
     "output_type": "stream",
     "text": [
      "prometheus books's NPMI\t0.434531454797\n",
      "atheist books's NPMI\t-0.0179827143544\n",
      "important things's NPMI\t-0.186605575741\n",
      "clipper chip's NPMI\t0.527273727295\n",
      "trouble shooting's NPMI\t0.0790239311372\n",
      "general purpose's NPMI\t0.0678641792412\n",
      "mirror sites's NPMI\t0.345965550419\n",
      "vga monitor's NPMI\t0.269547656226\n",
      "chinese restaurant syndrome's NPMI\t0.617371751124\n",
      "hicnet medical newsletter page's NPMI\t0.345722989488\n",
      "leftover turkey's NPMI\t0.664479018325\n",
      "white house's NPMI\t0.430806181314\n",
      "university press's NPMI\t0.175082681879\n"
     ]
    },
    {
     "data": {
      "text/plain": [
       "0.1750826818790686"
      ]
     },
     "execution_count": 23,
     "metadata": {},
     "output_type": "execute_result"
    }
   ],
   "source": [
    "import math\n",
    "def computeNPMI(df1,df2,dfPhrase,N):\n",
    "    p1=(float(df1)+0.01)/float(N)\n",
    "    p2=(float(df2)+0.01)/float(N)\n",
    "    p12=(float(dfPhrase)+0.01)/float(N)\n",
    "    NPMI=math.log(p12/(p1*p2))/(-math.log(p12))\n",
    "    return NPMI\n",
    "\n",
    "def computeNPMIforPhrase_2words(phrase,dfPhrase):\n",
    "    word1,word2=phrase.split(\" \")\n",
    "    df1=len(dWord[word1])\n",
    "    df2=len(dWord[word2])\n",
    "    score=computeNPMI(df1,df2,dfPhrase,N)\n",
    "    return score\n",
    "\n",
    "def computeNPMIforPhrase(phrase,debug=False):\n",
    "    splitted=phrase.split(\" \")\n",
    "    result=float(\"inf\")\n",
    "    dfPhrase=len(dPhrase[phrase])\n",
    "    numWordInPhrase=len(splitted)\n",
    "    for i in range(numWordInPhrase-1):\n",
    "        two_words=\" \".join(splitted[i:i+2])\n",
    "        score=computeNPMIforPhrase_2words(two_words,dfPhrase)\n",
    "        if(result>score):\n",
    "            result=score\n",
    "    if(debug):\n",
    "        print(\"%s's NPMI\\t%s\" %(phrase,str(score)))\n",
    "    return score\n",
    "\n",
    "    \n",
    "computeNPMIforPhrase(\"prometheus books\",debug=True)\n",
    "computeNPMIforPhrase(\"atheist books\",debug=True)\n",
    "computeNPMIforPhrase(\"important things\",debug=True)\n",
    "computeNPMIforPhrase(\"clipper chip\",debug=True)\n",
    "computeNPMIforPhrase(\"trouble shooting\",debug=True)\n",
    "computeNPMIforPhrase(\"general purpose\",debug=True)\n",
    "computeNPMIforPhrase(\"mirror sites\",debug=True)\n",
    "computeNPMIforPhrase(\"vga monitor\",debug=True)\n",
    "computeNPMIforPhrase(\"chinese restaurant syndrome\",debug=True)\n",
    "computeNPMIforPhrase(\"hicnet medical newsletter page\",debug=True)\n",
    "computeNPMIforPhrase(\"leftover turkey\",debug=True)\n",
    "computeNPMIforPhrase(\"white house\",debug=True)\n",
    "computeNPMIforPhrase(\"university press\",debug=True)"
   ]
  },
  {
   "cell_type": "markdown",
   "metadata": {},
   "source": [
    "We sort the phrases according to their scores of NPMI."
   ]
  },
  {
   "cell_type": "code",
   "execution_count": 24,
   "metadata": {
    "collapsed": true
   },
   "outputs": [],
   "source": [
    "dPhraseScore=dict()\n",
    "for phrase in dPhrase.keys():\n",
    "    score=computeNPMIforPhrase(phrase)\n",
    "    dPhraseScore[phrase]=score"
   ]
  },
  {
   "cell_type": "code",
   "execution_count": 25,
   "metadata": {
    "collapsed": true
   },
   "outputs": [],
   "source": [
    "from operator import itemgetter\n",
    "sortedList=sorted(dPhraseScore.items(),key=itemgetter(1),reverse=True)"
   ]
  },
  {
   "cell_type": "code",
   "execution_count": 26,
   "metadata": {
    "collapsed": true
   },
   "outputs": [],
   "source": [
    "with open(\"input/phrase_score.txt\",\"w\") as fWriter:\n",
    "    for phrase,score in sortedList:\n",
    "        fWriter.write(\"%s\\t%s\\n\" % (phrase,score))"
   ]
  },
  {
   "cell_type": "markdown",
   "metadata": {},
   "source": [
    "### 3 Showing the distribution of score"
   ]
  },
  {
   "cell_type": "code",
   "execution_count": 27,
   "metadata": {},
   "outputs": [
    {
     "data": {
      "image/png": "[encoded data removed]",
      "text/plain": [
       "<matplotlib.figure.Figure at 0x110155b90>"
      ]
     },
     "metadata": {},
     "output_type": "display_data"
    }
   ],
   "source": [
    "import matplotlib.pyplot as plt\n",
    "n, bins, patches = plt.hist(dPhraseScore.values(), 50, facecolor='green', alpha=0.75)\n",
    "plt.show()"
   ]
  },
  {
   "cell_type": "code",
   "execution_count": 28,
   "metadata": {},
   "outputs": [
    {
     "name": "stdout",
     "output_type": "stream",
     "text": [
      "sta uartcmd\t1.0\r\n",
      "devrim tarihi\t1.0\r\n",
      "sarik ariyak\t1.0\r\n",
      "heyeti nizamnamesi\t1.0\r\n",
      "encumeni mecmuasi\t1.0\r\n",
      "dee dee\t1.0\r\n",
      "alexei yashin\t1.0\r\n",
      "patrik juhlin\t1.0\r\n",
      "amtor selcal\t1.0\r\n",
      "yelena bonner\t1.0\r\n",
      "notre dame\t1.0\r\n",
      "juhana kouhia\t1.0\r\n",
      "neb dcon dops\t1.0\r\n",
      "vukela mazbatalari\t1.0\r\n",
      "diane schwartz\t1.0\r\n",
      "hakkinda vesaike mustenid malumat\t1.0\r\n",
      "microtest lanport\t1.0\r\n",
      "mein kampf\t1.0\r\n",
      "orhan gunduz\t1.0\r\n",
      "vernor vinge\t1.0\r\n",
      "katolik propagandasi\t1.0\r\n",
      "klux klan\t1.0\r\n",
      "depo provera\t1.0\r\n",
      "cesarean deliveries\t1.0\r\n",
      "security through obscurity\t1.0\r\n",
      "jef poskanzer\t1.0\r\n",
      "lozan baris konferansi\t1.0\r\n",
      "birinci baski\t1.0\r\n",
      "anasina tarihin soyledikleri\t1.0\r\n",
      "onur yalcin\t1.0\r\n",
      "puerto rico\t1.0\r\n",
      "alliance israelite universelle\t1.0\r\n",
      "dahiliye nezareti\t1.0\r\n",
      "escherichia coli\t1.0\r\n",
      "paxton quigley\t1.0\r\n",
      "ahalinin ducar olduklari mezalim\t1.0\r\n",
      "ilmi mudafaalari\t1.0\r\n",
      "haemophilus influenzae\t1.0\r\n",
      "deir yassin\t0.987370626998\r\n",
      "serdar argic\t0.987327679749\r\n",
      "saudi arabia\t0.983422045631\r\n",
      "las vegas\t0.968596739482\r\n",
      "los angeles\t0.96358756491\r\n",
      "ermeni mezalimi\t0.962405050772\r\n",
      "maddi hausmann\t0.946265507949\r\n",
      "tarih belgeleri dergisi\t0.942993929514\r\n",
      "ermeniler sempozyumu\t0.942993929514\r\n",
      "shayne corson\t0.942993929514\r\n",
      "moise allatini\t0.941713020072\r\n",
      "bake timmons\t0.936623552711\r\n"
     ]
    }
   ],
   "source": [
    "!head -n50 input/phrase_score.txt"
   ]
  },
  {
   "cell_type": "code",
   "execution_count": 29,
   "metadata": {},
   "outputs": [
    {
     "name": "stdout",
     "output_type": "stream",
     "text": [
      "space faq\t-0.205654506299\r\n",
      "ftp software\t-0.206300971084\r\n",
      "similar problem\t-0.20640501725\r\n",
      "light years\t-0.207060462248\r\n",
      "install program\t-0.20752517871\r\n",
      "big question\t-0.209118304792\r\n",
      "list address\t-0.213008488841\r\n",
      "interesting question\t-0.21316753174\r\n",
      "order form\t-0.213826487376\r\n",
      "send receive\t-0.217080924672\r\n",
      "scsi dat tape drive\t-0.21749905302\r\n",
      "couple years\t-0.217759598728\r\n",
      "hard drive controller\t-0.219914653039\r\n",
      "frequently asked question\t-0.220122875091\r\n",
      "data type\t-0.221424872251\r\n",
      "question mark\t-0.221733294591\r\n",
      "data general\t-0.227721213658\r\n",
      "street new york\t-0.231530788698\r\n",
      "external hard drive\t-0.232050805963\r\n",
      "true god\t-0.232383679783\r\n",
      "real problem\t-0.232518516781\r\n",
      "human reason\t-0.233577786162\r\n",
      "graphics information\t-0.234670990861\r\n",
      "new york times\t-0.237355586567\r\n",
      "access control list\t-0.23902550573\r\n",
      "common problem\t-0.239545904501\r\n",
      "return true\t-0.241939535678\r\n",
      "great care\t-0.241953784249\r\n",
      "single drive\t-0.243723657396\r\n",
      "dos windows\t-0.246531809182\r\n",
      "mbytes operating system\t-0.246993570743\r\n",
      "thousand years ago\t-0.248888592433\r\n",
      "mail based\t-0.254892416258\r\n",
      "dib image file\t-0.256107402039\r\n",
      "space based\t-0.258067893031\r\n",
      "program source file\t-0.259143758324\r\n",
      "obfuscated program source file\t-0.259143758324\r\n",
      "pretty good job\t-0.263867057054\r\n",
      "sun user group\t-0.265210559961\r\n",
      "address phone\t-0.266416382178\r\n",
      "large lot\t-0.268897069183\r\n",
      "long time ago\t-0.274948068125\r\n",
      "couple years ago\t-0.284837696892\r\n",
      "card number\t-0.284915631199\r\n",
      "contact person\t-0.28844603015\r\n",
      "floppy disk drive\t-0.292529217157\r\n",
      "high order\t-0.303565440068\r\n",
      "billion years ago\t-0.308306564921\r\n",
      "read write\t-0.351281154111\r\n",
      "meg esdi hard drive\t-0.357123601021\r\n"
     ]
    }
   ],
   "source": [
    "!tail -n50 input/phrase_score.txt"
   ]
  },
  {
   "cell_type": "markdown",
   "metadata": {
    "collapsed": true
   },
   "source": [
    "### 4 Testing the method on more data"
   ]
  },
  {
   "cell_type": "markdown",
   "metadata": {},
   "source": [
    "We rewrite the above script into the file script/linkInformation.py. When we want to use it, just import it and call the function extractLinkInformation(filename,outputfile) where outputfile is \"input/phrase_score.txt\""
   ]
  },
  {
   "cell_type": "code",
   "execution_count": 30,
   "metadata": {},
   "outputs": [
    {
     "data": {
      "text/plain": [
       "<module 'script.linkInformation' from 'script/linkInformation.pyc'>"
      ]
     },
     "execution_count": 30,
     "metadata": {},
     "output_type": "execute_result"
    }
   ],
   "source": [
    "reload(script.linkInformation)"
   ]
  },
  {
   "cell_type": "code",
   "execution_count": 31,
   "metadata": {
    "collapsed": true
   },
   "outputs": [],
   "source": [
    "import script.linkInformation"
   ]
  },
  {
   "cell_type": "code",
   "execution_count": 32,
   "metadata": {
    "collapsed": true
   },
   "outputs": [],
   "source": [
    "script.linkInformation.extractLinkInformation(\"input/20newsgroups.txt\",\"input/phrase_score.txt\")"
   ]
  },
  {
   "cell_type": "markdown",
   "metadata": {},
   "source": [
    "#### 4.1 Mathematics dataset"
   ]
  },
  {
   "cell_type": "code",
   "execution_count": 33,
   "metadata": {
    "collapsed": true
   },
   "outputs": [],
   "source": [
    "script.linkInformation.extractLinkInformation(\"input/mathematics.txt\",\"input/phrase_score.txt\")"
   ]
  },
  {
   "cell_type": "code",
   "execution_count": 34,
   "metadata": {},
   "outputs": [
    {
     "name": "stdout",
     "output_type": "stream",
     "text": [
      "sankt gallen\t1.0\r\n",
      "comptes rendus\t1.0\r\n",
      "humpty dumpty\t1.0\r\n",
      "corporibus regularibus\t1.0\r\n",
      "jawaharlal nehru\t1.0\r\n",
      "retinitis pigmentosa\t1.0\r\n",
      "ryue nishizawa\t1.0\r\n",
      "mysterium cosmographicum\t1.0\r\n",
      "anno domini\t1.0\r\n",
      "antonin artaud\t1.0\r\n",
      "morwen thistlethwaite\t1.0\r\n",
      "battlestar galactica\t1.0\r\n",
      "jia xian\t1.0\r\n",
      "kuala lumpur\t1.0\r\n",
      "asghar qadir\t1.0\r\n",
      "disquisitiones arithmeticae\t1.0\r\n",
      "yom kippur\t1.0\r\n",
      "metamagical themas\t1.0\r\n",
      "nitin saxena\t1.0\r\n",
      "houghton mifflin\t1.0\r\n"
     ]
    }
   ],
   "source": [
    "!head -n20 input/phrase_score.txt"
   ]
  },
  {
   "cell_type": "code",
   "execution_count": 35,
   "metadata": {},
   "outputs": [
    {
     "name": "stdout",
     "output_type": "stream",
     "text": [
      "standard book number\t-0.648023894554\r\n",
      "complex systems research\t-0.650470123405\r\n",
      "quantum information theory\t-0.654253313837\r\n",
      "elementary number theory\t-0.655104686956\r\n",
      "zfc set theory\t-0.656034687487\r\n",
      "musical set theory\t-0.659849187281\r\n",
      "mathematical set theory\t-0.663931236714\r\n",
      "independent set problem\t-0.664360919509\r\n",
      "computational number theory\t-0.667108306709\r\n",
      "zermelo set theory\t-0.668330772059\r\n",
      "constructive set theory\t-0.673114051071\r\n",
      "modern set theory\t-0.673114051071\r\n",
      "effective descriptive set theory\t-0.67837188181\r\n",
      "lti system theory\t-0.680825639021\r\n",
      "combinatorial number theory\t-0.689353590659\r\n",
      "classical set theory\t-0.690895366536\r\n",
      "rough set theory\t-0.690895366536\r\n",
      "additive number theory\t-0.693420317494\r\n",
      "transcendental number theory\t-0.714277984192\r\n",
      "fuzzy set theory\t-0.73929398386\r\n"
     ]
    }
   ],
   "source": [
    "!tail -n20 input/phrase_score.txt"
   ]
  },
  {
   "cell_type": "code",
   "execution_count": 49,
   "metadata": {},
   "outputs": [
    {
     "name": "stdout",
     "output_type": "stream",
     "text": [
      "united states\t1411\t0.0504884245178\n",
      "special case\t914\t0.0327047625863\n",
      "closely related\t681\t0.0243675528679\n",
      "programming language\t624\t0.0223279779583\n",
      "large number\t594\t0.0212545174795\n",
      "graph theory\t566\t0.0202526210327\n",
      "probability theory\t560\t0.0200379289369\n",
      "world war\t539\t0.0192865066018\n",
      "vice versa\t481\t0.0172111496762\n",
      "probability distribution\t470\t0.0168175475006\n",
      "applied mathematics\t461\t0.016495509357\n",
      "quantum mechanics\t442\t0.0158156510538\n",
      "general relativity\t426\t0.0152431387984\n",
      "real numbers\t426\t0.0152431387984\n",
      "open source\t424\t0.0151715747665\n",
      "number theory\t422\t0.0151000107346\n",
      "programming languages\t408\t0.0145990625112\n",
      "artificial intelligence\t391\t0.0139907682399\n",
      "computational complexity\t383\t0.0137045121122\n",
      "united kingdom\t374\t0.0133824739686\n"
     ]
    }
   ],
   "source": [
    "dWord,dPhrase,N=script.linkInformation.initData(\"input/mathematics.txt\")\n",
    "dPhraseDF=dict()\n",
    "for phrase in dPhrase.keys():\n",
    "    df = len(dPhrase[phrase])\n",
    "    dPhraseDF[phrase]=df\n",
    "sortedPhrasesWithPhrequency=sorted(dPhraseDF.items(),key=itemgetter(1),reverse=True)\n",
    "for i in range(0,20):\n",
    "    phrase,df=sortedPhrasesWithPhrequency[i]\n",
    "    print(\"%s\\t%s\\t%s\" %(phrase,df,float(df)/float(N)) )"
   ]
  },
  {
   "cell_type": "markdown",
   "metadata": {},
   "source": [
    "#### 4.2 Argentina dataset"
   ]
  },
  {
   "cell_type": "code",
   "execution_count": 51,
   "metadata": {},
   "outputs": [],
   "source": [
    "script.linkInformation.extractLinkInformation(\"input/argentina.txt\",\"input/phrase_score.txt\")"
   ]
  },
  {
   "cell_type": "code",
   "execution_count": 52,
   "metadata": {},
   "outputs": [
    {
     "name": "stdout",
     "output_type": "stream",
     "text": [
      "rada tilly\t1.0\r\n",
      "luis moglia barth\t1.0\r\n",
      "rand mcnally\t1.0\r\n",
      "lionel messi\t1.0\r\n",
      "dendrocygna viduata\t1.0\r\n",
      "phalacrocorax atriceps\t1.0\r\n",
      "sui generis\t1.0\r\n",
      "tita merello\t1.0\r\n",
      "cosa nostra\t1.0\r\n",
      "anastasio somoza\t1.0\r\n",
      "baruch tenembaum\t1.0\r\n",
      "alfio basile\t1.0\r\n",
      "saddam hussein\t1.0\r\n",
      "cariama cristata\t1.0\r\n",
      "zwi migdal\t1.0\r\n",
      "venado tuerto\t1.0\r\n",
      "drimys winteri\t1.0\r\n",
      "cabernet sauvignon\t1.0\r\n",
      "colo colo\t1.0\r\n",
      "barack obama\t1.0\r\n"
     ]
    }
   ],
   "source": [
    "!head -n20 input/phrase_score.txt"
   ]
  },
  {
   "cell_type": "code",
   "execution_count": 53,
   "metadata": {},
   "outputs": [
    {
     "name": "stdout",
     "output_type": "stream",
     "text": [
      "buenos aires municipal\t-0.442481453645\r\n",
      "barrio san pedro\t-0.448220676473\r\n",
      "south eastern\t-0.45114258639\r\n",
      "bank argentina\t-0.462713407906\r\n",
      "south central chile\t-0.463488022777\r\n",
      "general san\t-0.465741848204\r\n",
      "buenos aires city\t-0.491415602726\r\n",
      "argentine drama\t-0.49436192249\r\n",
      "argentina national football\t-0.495164632075\r\n",
      "buenos aires convention\t-0.50320174766\r\n",
      "central argentine\t-0.519896627239\r\n",
      "dominio del plata\t-0.541577928445\r\n",
      "comercial del plata\t-0.541577928445\r\n",
      "buenos aires provincial\t-0.542964618255\r\n",
      "downtown buenos aires\t-0.55390344958\r\n",
      "gran buenos aires\t-0.5927363899\r\n",
      "north western argentina\t-0.615677768311\r\n",
      "colonial buenos aires\t-0.651707348263\r\n",
      "north central argentina\t-0.65445731269\r\n",
      "harrods buenos aires\t-0.694535344376\r\n"
     ]
    }
   ],
   "source": [
    "!tail -n20 input/phrase_score.txt"
   ]
  },
  {
   "cell_type": "markdown",
   "metadata": {},
   "source": [
    "To Check if we should filter out the frequent phrase such as \"south america\" and \"north america\""
   ]
  },
  {
   "cell_type": "code",
   "execution_count": 54,
   "metadata": {},
   "outputs": [
    {
     "name": "stdout",
     "output_type": "stream",
     "text": [
      "8617\n",
      "1506\n",
      "973\n",
      "541\n",
      "south america\t0.418097485075\n",
      "south american\t0.226532917538\n",
      "south american basketball championship\t0.0199085252605\n",
      "south americans\t-0.00634263539086\n",
      "south american youth\t-0.122167062228\n",
      "southern south america\t-0.252965882472\n",
      "northern south america\t-0.363855486721\n",
      "eastern south america\t-0.382101403972\n",
      "central south america\t-0.395703860255\n",
      "western south america\t-0.419144012145\n",
      "southernmost south america\t-0.437690480893\n",
      "tropical south america\t-0.437690480893\n",
      "306\n"
     ]
    }
   ],
   "source": [
    "dWord,dPhrase,N=script.linkInformation.initData(\"input/argentina.txt\")\n",
    "print(N)\n",
    "print(len(dWord[\"south\"]))\n",
    "print(len(dWord[\"america\"]))\n",
    "print(len(dPhrase[\"south america\"]))\n",
    "!grep \"south america\" input/phrase_score.txt\n",
    "print(len(dPhrase[\"south american\"]))"
   ]
  },
  {
   "cell_type": "code",
   "execution_count": 55,
   "metadata": {},
   "outputs": [
    {
     "name": "stdout",
     "output_type": "stream",
     "text": [
      "851\n",
      "973\n",
      "78\n",
      "north america\t-0.0443154554414\r\n",
      "north american\t-0.0940834809526\r\n"
     ]
    }
   ],
   "source": [
    "print(len(dWord[\"north\"]))\n",
    "print(len(dWord[\"america\"]))\n",
    "print(len(dPhrase[\"north america\"]))\n",
    "!grep \"north america\" input/phrase_score.txt"
   ]
  },
  {
   "cell_type": "code",
   "execution_count": 57,
   "metadata": {},
   "outputs": [
    {
     "name": "stdout",
     "output_type": "stream",
     "text": [
      "339\n",
      "79\n",
      "23\n",
      "strong winds\t0.33782731222\r\n"
     ]
    }
   ],
   "source": [
    "print(len(dWord[\"strong\"]))\n",
    "print(len(dWord[\"winds\"]))\n",
    "print(len(dPhrase[\"strong winds\"]))\n",
    "!grep \"strong winds\" input/phrase_score.txt"
   ]
  },
  {
   "cell_type": "code",
   "execution_count": 56,
   "metadata": {},
   "outputs": [
    {
     "name": "stdout",
     "output_type": "stream",
     "text": [
      "15\n",
      "458\n",
      "4\n",
      "rebelde way\t0.210444255007\r\n"
     ]
    }
   ],
   "source": [
    "print(len(dWord[\"rebelde\"]))\n",
    "print(len(dWord[\"way\"]))\n",
    "print(len(dPhrase[\"rebelde way\"]))\n",
    "!grep \"rebelde way\" input/phrase_score.txt"
   ]
  },
  {
   "cell_type": "code",
   "execution_count": 58,
   "metadata": {},
   "outputs": [
    {
     "name": "stdout",
     "output_type": "stream",
     "text": [
      "259\n",
      "127\n",
      "65\n",
      "tropical moist lowland\t0.753622299363\r\n",
      "tropical moist\t0.580096011959\r\n"
     ]
    }
   ],
   "source": [
    "print(len(dWord[\"tropical\"]))\n",
    "print(len(dWord[\"moist\"]))\n",
    "print(len(dPhrase[\"tropical moist\"]))\n",
    "!grep \"tropical moist\" input/phrase_score.txt"
   ]
  },
  {
   "cell_type": "code",
   "execution_count": 59,
   "metadata": {},
   "outputs": [
    {
     "name": "stdout",
     "output_type": "stream",
     "text": [
      "1494\n",
      "3\n",
      "3\n",
      "new holland\t0.220147210908\t3\r\n"
     ]
    }
   ],
   "source": [
    "print(len(dWord[\"new\"]))\n",
    "print(len(dWord[\"holland\"]))\n",
    "print(len(dPhrase[\"new holland\"]))\n",
    "!grep \"new holland\" input/phrase_score.txt"
   ]
  },
  {
   "cell_type": "markdown",
   "metadata": {},
   "source": [
    "Show the phrase with top frequencies. "
   ]
  },
  {
   "cell_type": "code",
   "execution_count": 45,
   "metadata": {},
   "outputs": [],
   "source": [
    "dPhraseDF=dict()\n",
    "for phrase in dPhrase.keys():\n",
    "    df = len(dPhrase[phrase])\n",
    "    dPhraseDF[phrase]=df\n",
    "sortedPhrasesWithPhrequency=sorted(dPhraseDF.items(),key=itemgetter(1),reverse=True)"
   ]
  },
  {
   "cell_type": "code",
   "execution_count": 47,
   "metadata": {},
   "outputs": [
    {
     "name": "stdout",
     "output_type": "stream",
     "text": [
      "buenos aires\t2510\t0.291284669839\n",
      "south america\t541\t0.0627828710688\n",
      "united states\t518\t0.0601137286759\n",
      "south american\t306\t0.0355111987931\n",
      "latin america\t293\t0.0340025530927\n",
      "northwestern argentina\t269\t0.0312173610305\n",
      "tierra del fuego\t262\t0.0304050133457\n",
      "latin american\t205\t0.023790182198\n",
      "san luis\t201\t0.0233259835209\n",
      "san juan\t200\t0.0232099338517\n",
      "argentine film\t198\t0.0229778345132\n",
      "greater buenos aires\t197\t0.0228617848439\n",
      "world war\t189\t0.0219333874898\n",
      "northern argentina\t188\t0.0218173378206\n",
      "mar del plata\t178\t0.020656841128\n",
      "argentine football\t175\t0.0203086921202\n",
      "juan manuel\t173\t0.0200765927817\n",
      "argentine government\t173\t0.0200765927817\n",
      "united kingdom\t172\t0.0199605431125\n",
      "catamarca province\t170\t0.0197284437739\n"
     ]
    }
   ],
   "source": [
    "for i in range(0,20):\n",
    "    phrase,df=sortedPhrasesWithPhrequency[i]\n",
    "    print(\"%s\\t%s\\t%s\" %(phrase,df,float(df)/float(N)) )"
   ]
  },
  {
   "cell_type": "code",
   "execution_count": null,
   "metadata": {
    "collapsed": true
   },
   "outputs": [],
   "source": []
  }
 ],
 "metadata": {
  "kernelspec": {
   "display_name": "Python 2",
   "language": "python",
   "name": "python2"
  },
  "language_info": {
   "codemirror_mode": {
    "name": "ipython",
    "version": 2
   },
   "file_extension": ".py",
   "mimetype": "text/x-python",
   "name": "python",
   "nbconvert_exporter": "python",
   "pygments_lexer": "ipython2",
   "version": "2.7.10"
  }
 },
 "nbformat": 4,
 "nbformat_minor": 2
}
